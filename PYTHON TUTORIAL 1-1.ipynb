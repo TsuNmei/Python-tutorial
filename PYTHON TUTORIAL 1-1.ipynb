{
 "cells": [
  {
   "cell_type": "markdown",
   "metadata": {},
   "source": [
    "# PYTHON TUTORIAL 1-1"
   ]
  },
  {
   "cell_type": "markdown",
   "metadata": {},
   "source": [
    "### Python 屬於 /直譯器/ 物件導向 的程式語言"
   ]
  },
  {
   "cell_type": "markdown",
   "metadata": {},
   "source": [
    "#### Unicode 是指可使用多種語言在一個程式語言內 Ex:中文、英文、法文 etc.\n",
    "####直譯器是一種電腦程式，能夠把高階程式語言一行一行直接轉譯執行；\n",
    "####直譯器像位「中間人」，每次執行程式時都要先轉成另一種語言再作執行，因此直譯器的程式運行速度比較慢；\n",
    "####不會一次把整個程式轉譯出來，而是每轉譯一行程式敘述就立刻執行，然後再轉譯下一行，再執行..."
   ]
  },
  {
   "cell_type": "markdown",
   "metadata": {},
   "source": [
    "### * PRINT (打印)"
   ]
  },
  {
   "cell_type": "markdown",
   "metadata": {},
   "source": [
    "GitHubs Hello World"
   ]
  },
  {
   "cell_type": "markdown",
   "metadata": {},
   "source": [
    "・https://guides.github.com/activities/hello-world/"
   ]
  },
  {
   "cell_type": "code",
   "execution_count": 1,
   "metadata": {
    "scrolled": false
   },
   "outputs": [
    {
     "name": "stdout",
     "output_type": "stream",
     "text": [
      "   Hello World\n",
      "   是指打印的意思\n",
      "   是將程式所執行程式碼(code),顯示出來\n"
     ]
    }
   ],
   "source": [
    "# 小試身手\n",
    "# First Programming language always start from print 'Hello World'\n",
    "print(\"   Hello World\")\n",
    "print('   是指打印的意思')\n",
    "print('   是將程式所執行程式碼(code),顯示出來')"
   ]
  },
  {
   "cell_type": "code",
   "execution_count": 2,
   "metadata": {},
   "outputs": [
    {
     "name": "stdout",
     "output_type": "stream",
     "text": [
      "\tHello World\n",
      "\t .t是指空一格\n",
      "\t代替空白鍵空格\n"
     ]
    }
   ],
   "source": [
    "# \\t 為 tab -> 空一格的意思\n",
    "print(\"\\tHello World\")\n",
    "print('\\t .t是指空一格')\n",
    "print('\\t代替空白鍵空格')"
   ]
  },
  {
   "cell_type": "code",
   "execution_count": 3,
   "metadata": {
    "scrolled": false
   },
   "outputs": [
    {
     "name": "stdout",
     "output_type": "stream",
     "text": [
      "10\n",
      "MY NAME IS JAMIE\n",
      "1 2 3 4 5 6 是數字 is numbers\n",
      "1#2#3#4#5#6#是數字#is numbers\n",
      "1\n",
      "換行\n",
      "2\n"
     ]
    }
   ],
   "source": [
    "# Print功能\n",
    "print(10)\n",
    "# 若是要打印字串，例如文字：必須＋上 '你想輸入的文字'\n",
    "print('MY NAME IS JAMIE')\n",
    "# 一次打印多個資訊，以逗點來分隔\n",
    "print(1,2,3,4,5,6,'是數字','is numbers')\n",
    "# 改變打印分隔的方式 default為空格 (separte 函數)：\n",
    "print(1,2,3,4,5,6,'是數字','is numbers',sep = '#')\n",
    "print(1,'換行',2,sep='\\n')"
   ]
  },
  {
   "cell_type": "markdown",
   "metadata": {},
   "source": [
    "### * MATHAMATIC (數理運算)"
   ]
  },
  {
   "cell_type": "code",
   "execution_count": 4,
   "metadata": {
    "scrolled": false
   },
   "outputs": [
    {
     "data": {
      "text/plain": [
       "101"
      ]
     },
     "execution_count": 4,
     "metadata": {},
     "output_type": "execute_result"
    }
   ],
   "source": [
    "#加法\n",
    "1+100"
   ]
  },
  {
   "cell_type": "code",
   "execution_count": 5,
   "metadata": {
    "scrolled": false
   },
   "outputs": [],
   "source": [
    "#命名 varible x 為 1 \n",
    "x = 1 "
   ]
  },
  {
   "cell_type": "code",
   "execution_count": 6,
   "metadata": {
    "scrolled": false
   },
   "outputs": [
    {
     "data": {
      "text/plain": [
       "7"
      ]
     },
     "execution_count": 6,
     "metadata": {},
     "output_type": "execute_result"
    }
   ],
   "source": [
    "x + 6 \n",
    "#output = 7"
   ]
  },
  {
   "cell_type": "code",
   "execution_count": 7,
   "metadata": {},
   "outputs": [],
   "source": [
    "#刪除x變數\n",
    "del(x)"
   ]
  },
  {
   "cell_type": "code",
   "execution_count": 8,
   "metadata": {},
   "outputs": [
    {
     "name": "stdout",
     "output_type": "stream",
     "text": [
      "x has been delete!\n"
     ]
    }
   ],
   "source": [
    "#偵錯輸出\n",
    "try:\n",
    "    print(x)\n",
    "except NameError:\n",
    "    print('x has been delete!')"
   ]
  },
  {
   "cell_type": "code",
   "execution_count": 9,
   "metadata": {
    "scrolled": false
   },
   "outputs": [],
   "source": [
    "x = 100"
   ]
  },
  {
   "cell_type": "code",
   "execution_count": 10,
   "metadata": {
    "scrolled": false
   },
   "outputs": [
    {
     "data": {
      "text/plain": [
       "'100'"
      ]
     },
     "execution_count": 10,
     "metadata": {},
     "output_type": "execute_result"
    }
   ],
   "source": [
    "str(x)"
   ]
  },
  {
   "cell_type": "code",
   "execution_count": 11,
   "metadata": {
    "scrolled": false
   },
   "outputs": [
    {
     "data": {
      "text/plain": [
       "100"
      ]
     },
     "execution_count": 11,
     "metadata": {},
     "output_type": "execute_result"
    }
   ],
   "source": [
    "int(x)"
   ]
  },
  {
   "cell_type": "markdown",
   "metadata": {
    "scrolled": false
   },
   "source": [
    "#### 【 round 】function  (四捨五入)"
   ]
  },
  {
   "cell_type": "code",
   "execution_count": 12,
   "metadata": {},
   "outputs": [
    {
     "data": {
      "text/plain": [
       "20"
      ]
     },
     "execution_count": 12,
     "metadata": {},
     "output_type": "execute_result"
    }
   ],
   "source": [
    "# 將 variable_y 的數值四捨五入\n",
    "y = 20.3\n",
    "round(y)"
   ]
  },
  {
   "cell_type": "code",
   "execution_count": 13,
   "metadata": {},
   "outputs": [
    {
     "data": {
      "text/plain": [
       "10.3457"
      ]
     },
     "execution_count": 13,
     "metadata": {},
     "output_type": "execute_result"
    }
   ],
   "source": [
    "# 將 variable_y 的數值四捨五入進位取小數點_4_位數\n",
    "y = 10.34567\n",
    "round(y,4)"
   ]
  },
  {
   "cell_type": "markdown",
   "metadata": {
    "scrolled": false
   },
   "source": [
    "#### 【 pow 】 function (次方)"
   ]
  },
  {
   "cell_type": "code",
   "execution_count": 14,
   "metadata": {
    "scrolled": false
   },
   "outputs": [
    {
     "data": {
      "text/plain": [
       "100"
      ]
     },
     "execution_count": 14,
     "metadata": {},
     "output_type": "execute_result"
    }
   ],
   "source": [
    "# 用法：x 的 y 次方\n",
    "# 打印 10 的 2 次方\n",
    "pow(10,2)"
   ]
  },
  {
   "cell_type": "code",
   "execution_count": 15,
   "metadata": {},
   "outputs": [
    {
     "data": {
      "text/plain": [
       "100"
      ]
     },
     "execution_count": 15,
     "metadata": {},
     "output_type": "execute_result"
    }
   ],
   "source": [
    "# 同上\n",
    "10**2"
   ]
  },
  {
   "cell_type": "code",
   "execution_count": 16,
   "metadata": {},
   "outputs": [],
   "source": [
    "#Q&A:\n",
    "#If we list all the natural numbers below 10 that are multiples of 3 or 5,\n",
    "#we get 3, 5, 6 and 9. The sum of these multiples is 23.\n",
    "#Find the sum of all the multiples of 3 or 5 below 1000."
   ]
  },
  {
   "cell_type": "code",
   "execution_count": 17,
   "metadata": {},
   "outputs": [
    {
     "name": "stdout",
     "output_type": "stream",
     "text": [
      "233168\n"
     ]
    }
   ],
   "source": [
    "# Solution\n",
    "multi = []\n",
    "for item in range(1,1000):\n",
    "    if item%3==0 or item %5 == 0: \n",
    "        multi.append(item)\n",
    "print(sum(multi))"
   ]
  },
  {
   "cell_type": "markdown",
   "metadata": {},
   "source": [
    "### * STRING (字串)"
   ]
  },
  {
   "cell_type": "code",
   "execution_count": 18,
   "metadata": {},
   "outputs": [
    {
     "data": {
      "text/plain": [
       "'10'"
      ]
     },
     "execution_count": 18,
     "metadata": {},
     "output_type": "execute_result"
    }
   ],
   "source": [
    "# 將數值轉換為字串\n",
    "str(10)"
   ]
  },
  {
   "cell_type": "code",
   "execution_count": 19,
   "metadata": {
    "scrolled": false
   },
   "outputs": [
    {
     "name": "stdout",
     "output_type": "stream",
     "text": [
      "我是字串1:  I can't stop kissing u\n",
      "我是字串2:  I \tcan't stop kissing \n",
      "U\n"
     ]
    }
   ],
   "source": [
    "# 字串內若有 {'} 出現，必須加入 {\\} 以便程式判斷為字串內容\n",
    "string1 = 'I can\\'t stop kissing u'\n",
    "# {\\t} 表示空一格 &  {\\n} 表示換一行\n",
    "string2 = \"I \\tcan't stop kissing \\nU\"\n",
    "print('我是字串1: ',string1)\n",
    "print('我是字串2: ',string2)"
   ]
  },
  {
   "cell_type": "code",
   "execution_count": 20,
   "metadata": {
    "scrolled": false
   },
   "outputs": [
    {
     "name": "stdout",
     "output_type": "stream",
     "text": [
      "Hello world \n",
      "HELLO WORLD \n",
      "hello world \n",
      "----Hello World ----\n",
      "4\n",
      "0\n"
     ]
    }
   ],
   "source": [
    "text = 'THIS IS MY PYTHON TUTORIAL FROM JAMIE MEI.'\n",
    "string = 'Hello World '\n",
    "# 將字串句首大寫\n",
    "print(string.capitalize())\n",
    "# 將字串全部改為大寫\n",
    "print(string.upper())\n",
    "# 將字串全部改為小寫\n",
    "print(string.lower())\n",
    "# 將字串置中且外面將上'符號'\n",
    "print(string.center(20,'-'))\n",
    "# 回傳查詢字串位置\n",
    "print(string.index('o'))\n",
    "# 回傳查詢字串位置\n",
    "print(text.find('T'))"
   ]
  },
  {
   "cell_type": "code",
   "execution_count": 21,
   "metadata": {},
   "outputs": [
    {
     "name": "stdout",
     "output_type": "stream",
     "text": [
      "Today is Mon day,and i have 2999 dollars in the bank ,count 131.231\n"
     ]
    }
   ],
   "source": [
    "# 字串格式化\n",
    "#%a.bf，a表示浮点数的打印长度，b表示浮点数小数点后面的精度\n",
    "print('Today is %s day,and i have %d dollars in the bank ,count %2.3f' %('Mon',2999.99,131.23131))"
   ]
  },
  {
   "cell_type": "code",
   "execution_count": 22,
   "metadata": {
    "scrolled": false
   },
   "outputs": [
    {
     "name": "stdout",
     "output_type": "stream",
     "text": [
      "My name is Jamie,length is 5\n",
      "-----------------------\n",
      "Jamie is 22 years old.\n"
     ]
    }
   ],
   "source": [
    "name = 'Jamie'\n",
    "print(f'My name is {name},length is {len(name)}')\n",
    "print('-----------------------')\n",
    "# Another Example\n",
    "age = 22 \n",
    "print(f'{name} is {age} years old.')"
   ]
  },
  {
   "cell_type": "code",
   "execution_count": 23,
   "metadata": {},
   "outputs": [
    {
     "name": "stdout",
     "output_type": "stream",
     "text": [
      "I prefer Juice ,than Coke, than Sprite\n",
      "-------------------------------------\n",
      "I prefer Sprite ,than Coke, than Juice\n",
      "-------------------------------------\n",
      "I prefer Coke ,than Juice, than Sprite\n"
     ]
    }
   ],
   "source": [
    "# 用法：字串中加入{} + .format(你想要在{}加上的東西)\n",
    "print('I prefer {} ,than {}, than {}'.format('Juice','Coke','Sprite'))\n",
    "print('-------------------------------------')\n",
    "# 將{}內容物調換順序，使用 index of format(0,1,2)\n",
    "print('I prefer {2} ,than {1}, than {0}'.format('Juice','Coke','Sprite'))\n",
    "print('-------------------------------------')\n",
    "# 使用 key words 調換順序\n",
    "print('I prefer {C} ,than {J}, than {S}'.format(J = 'Juice',C = 'Coke',S = 'Sprite'))"
   ]
  },
  {
   "cell_type": "markdown",
   "metadata": {},
   "source": [
    "##### * Split()"
   ]
  },
  {
   "cell_type": "code",
   "execution_count": 24,
   "metadata": {},
   "outputs": [],
   "source": [
    "# Split()方法\n",
    "# 將字串分割，並回傳 List\n",
    "# split(\" \",num=string.count(str))\n",
    "# str -- 分隔符，默認為所有的空字符，包括空格、換行(\\n)、空兩格符(\\t)等。\n",
    "# num -- 分割次数。\n",
    "str1 = \"a b c d e f g\""
   ]
  },
  {
   "cell_type": "code",
   "execution_count": 25,
   "metadata": {},
   "outputs": [
    {
     "data": {
      "text/plain": [
       "['a', 'b', 'c', 'd', 'e', 'f', 'g']"
      ]
     },
     "execution_count": 25,
     "metadata": {},
     "output_type": "execute_result"
    }
   ],
   "source": [
    "str1.split()"
   ]
  },
  {
   "cell_type": "code",
   "execution_count": 26,
   "metadata": {},
   "outputs": [
    {
     "data": {
      "text/plain": [
       "3"
      ]
     },
     "execution_count": 26,
     "metadata": {},
     "output_type": "execute_result"
    }
   ],
   "source": [
    "lis = [1,2,3,4,5,6]\n",
    "lis.index(4)"
   ]
  },
  {
   "cell_type": "code",
   "execution_count": 27,
   "metadata": {},
   "outputs": [
    {
     "data": {
      "text/plain": [
       "['1', '2', '3', '4', '5', '6', '7']"
      ]
     },
     "execution_count": 27,
     "metadata": {},
     "output_type": "execute_result"
    }
   ],
   "source": [
    "str2 = '1-2-3-4-5-6-7'\n",
    "str2.split('-')"
   ]
  },
  {
   "cell_type": "markdown",
   "metadata": {},
   "source": [
    "### * List (列)"
   ]
  },
  {
   "cell_type": "code",
   "execution_count": 28,
   "metadata": {},
   "outputs": [],
   "source": [
    "# What is \"List\"？\n",
    "# 表示一個清單，內可含多個數值或變數"
   ]
  },
  {
   "cell_type": "code",
   "execution_count": 29,
   "metadata": {
    "scrolled": false
   },
   "outputs": [],
   "source": [
    "shop_list = [\"蘋果\",\"香蕉\",\"葡萄\",\"奇異果\"]"
   ]
  },
  {
   "cell_type": "code",
   "execution_count": 30,
   "metadata": {},
   "outputs": [],
   "source": [
    "shop_list.extend([\"木瓜\",\"檸檬\"])"
   ]
  },
  {
   "cell_type": "code",
   "execution_count": 31,
   "metadata": {
    "scrolled": false
   },
   "outputs": [
    {
     "name": "stdout",
     "output_type": "stream",
     "text": [
      "['蘋果', '香蕉', '葡萄', '奇異果', '木瓜', '檸檬']\n"
     ]
    }
   ],
   "source": [
    "print(shop_list, sep=\"s\")"
   ]
  },
  {
   "cell_type": "code",
   "execution_count": 32,
   "metadata": {
    "scrolled": false
   },
   "outputs": [
    {
     "name": "stdout",
     "output_type": "stream",
     "text": [
      "hi*i*am*Jamie\n"
     ]
    }
   ],
   "source": [
    "print(\"hi\",\"i\",\"am\",\"Jamie\",sep = \"*\")"
   ]
  },
  {
   "cell_type": "code",
   "execution_count": 33,
   "metadata": {
    "scrolled": false
   },
   "outputs": [
    {
     "name": "stdout",
     "output_type": "stream",
     "text": [
      "hi i am Jamie\n"
     ]
    }
   ],
   "source": [
    "print(\"hi\",\"i\",\"am\",\"Jamie\")"
   ]
  },
  {
   "cell_type": "code",
   "execution_count": 34,
   "metadata": {
    "scrolled": false
   },
   "outputs": [],
   "source": [
    "x= 1\n",
    "y = \"jamie\"\n",
    "z= 90"
   ]
  },
  {
   "cell_type": "code",
   "execution_count": 35,
   "metadata": {
    "scrolled": false
   },
   "outputs": [
    {
     "name": "stdout",
     "output_type": "stream",
     "text": [
      "hi\n"
     ]
    }
   ],
   "source": [
    "print(\"hi\".format(x,y,z))"
   ]
  },
  {
   "cell_type": "code",
   "execution_count": 36,
   "metadata": {
    "scrolled": false
   },
   "outputs": [
    {
     "name": "stdout",
     "output_type": "stream",
     "text": [
      "請輸入名字:Jamie\n"
     ]
    }
   ],
   "source": [
    "name = input(\"請輸入名字:\")"
   ]
  },
  {
   "cell_type": "code",
   "execution_count": 37,
   "metadata": {
    "scrolled": true
   },
   "outputs": [
    {
     "name": "stdout",
     "output_type": "stream",
     "text": [
      "請輸入你的年齡:23\n",
      "歡迎購買\n"
     ]
    }
   ],
   "source": [
    "age = input(\"請輸入你的年齡:\")\n",
    "if(int(age) < 18):\n",
    "    print(\"你年紀太小！\")\n",
    "    print(\"請勿飲酒\")\n",
    "else: \n",
    "    print(\"歡迎購買\")"
   ]
  },
  {
   "cell_type": "code",
   "execution_count": null,
   "metadata": {},
   "outputs": [],
   "source": []
  }
 ],
 "metadata": {
  "kernelspec": {
   "display_name": "Python 3",
   "language": "python",
   "name": "python3"
  },
  "language_info": {
   "codemirror_mode": {
    "name": "ipython",
    "version": 3
   },
   "file_extension": ".py",
   "mimetype": "text/x-python",
   "name": "python",
   "nbconvert_exporter": "python",
   "pygments_lexer": "ipython3",
   "version": "3.7.3"
  },
  "latex_envs": {
   "LaTeX_envs_menu_present": true,
   "autoclose": false,
   "autocomplete": true,
   "bibliofile": "biblio.bib",
   "cite_by": "apalike",
   "current_citInitial": 1,
   "eqLabelWithNumbers": true,
   "eqNumInitial": 1,
   "hotkeys": {
    "equation": "Ctrl-E",
    "itemize": "Ctrl-I"
   },
   "labels_anchors": false,
   "latex_user_defs": false,
   "report_style_numbering": false,
   "user_envs_cfg": false
  },
  "varInspector": {
   "cols": {
    "lenName": 16,
    "lenType": 16,
    "lenVar": 40
   },
   "kernels_config": {
    "python": {
     "delete_cmd_postfix": "",
     "delete_cmd_prefix": "del ",
     "library": "var_list.py",
     "varRefreshCmd": "print(var_dic_list())"
    },
    "r": {
     "delete_cmd_postfix": ") ",
     "delete_cmd_prefix": "rm(",
     "library": "var_list.r",
     "varRefreshCmd": "cat(var_dic_list()) "
    }
   },
   "types_to_exclude": [
    "module",
    "function",
    "builtin_function_or_method",
    "instance",
    "_Feature"
   ],
   "window_display": false
  }
 },
 "nbformat": 4,
 "nbformat_minor": 2
}
